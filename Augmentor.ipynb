{
 "cells": [
  {
   "cell_type": "code",
   "execution_count": 1,
   "id": "dd342537-ff88-4b6b-8461-cc3f42156769",
   "metadata": {},
   "outputs": [],
   "source": [
    "import Augmentor"
   ]
  },
  {
   "cell_type": "code",
   "execution_count": 3,
   "id": "248a2c71-3945-499b-bdc8-a395f69f818a",
   "metadata": {},
   "outputs": [
    {
     "name": "stdout",
     "output_type": "stream",
     "text": [
      "Initialised with 100 image(s) found.\n",
      "Output directory set to C:\\Users\\PAVILION-15\\PycharmProjects\\Myproj2\\venv\\Bus\\output."
     ]
    }
   ],
   "source": [
    "p = Augmentor.Pipeline(\"C:\\\\Users\\\\PAVILION-15\\\\PycharmProjects\\\\Myproj2\\\\venv\\\\Bus\")"
   ]
  },
  {
   "cell_type": "markdown",
   "id": "3198a2c4-063a-4377-83e5-4a5e4c2044aa",
   "metadata": {},
   "source": [
    "#### Rotating"
   ]
  },
  {
   "cell_type": "code",
   "execution_count": 4,
   "id": "ef1ce11a-948b-416f-8145-f71415be3294",
   "metadata": {},
   "outputs": [],
   "source": [
    "p.rotate(probability=0.3,max_left_rotation=10,max_right_rotation=10)\n",
    "p.rotate90(probability=0.3)\n",
    "p.rotate270(probability=0.3)"
   ]
  },
  {
   "cell_type": "markdown",
   "id": "01f54c4a-f843-43a3-8f28-8ee5c97fa224",
   "metadata": {},
   "source": [
    "#### Flipping"
   ]
  },
  {
   "cell_type": "code",
   "execution_count": 5,
   "id": "ba6e5353-b3dd-434f-8dce-982607e58f62",
   "metadata": {},
   "outputs": [],
   "source": [
    "p.flip_left_right(probability=0.3)\n",
    "p.flip_random(probability=0.3)\n",
    "p.flip_top_bottom(probability=0.3)"
   ]
  },
  {
   "cell_type": "markdown",
   "id": "92caa3e9-09d0-4c0a-955a-9304f9c523a0",
   "metadata": {},
   "source": [
    "#### Cropping"
   ]
  },
  {
   "cell_type": "code",
   "execution_count": 6,
   "id": "b144b14f-5a57-4c07-9e7a-4bb8eaf74e24",
   "metadata": {},
   "outputs": [],
   "source": [
    "p.crop_random(probability=0.1, percentage_area=0.1)"
   ]
  },
  {
   "cell_type": "markdown",
   "id": "e0bfc823-4426-486c-85b9-5fba9e17c954",
   "metadata": {},
   "source": [
    "#### Resizing"
   ]
  },
  {
   "cell_type": "code",
   "execution_count": 8,
   "id": "b4d78445-dbdc-4023-b0be-e69aab4a2b03",
   "metadata": {},
   "outputs": [],
   "source": [
    "p.resize(probability=0.5, width = 100, height = 100)"
   ]
  },
  {
   "cell_type": "markdown",
   "id": "0236d597-c0e2-461c-9218-aea07b5158da",
   "metadata": {},
   "source": [
    "#### Random Brightness"
   ]
  },
  {
   "cell_type": "code",
   "execution_count": 9,
   "id": "eb131426-468a-4bca-8f84-c9d73f00c84d",
   "metadata": {},
   "outputs": [],
   "source": [
    "p.random_brightness(probability=0.5, min_factor=0.4,max_factor=0.9)"
   ]
  },
  {
   "cell_type": "markdown",
   "id": "64f409b2-4874-4ccc-bb98-79adcd3af417",
   "metadata": {},
   "source": [
    "#### Random Color"
   ]
  },
  {
   "cell_type": "code",
   "execution_count": 10,
   "id": "94c8f8cf-bf3a-4569-9a43-c1607024af38",
   "metadata": {},
   "outputs": [],
   "source": [
    "p.random_color(probability=0.5, min_factor=0.4,max_factor=0.9)"
   ]
  },
  {
   "cell_type": "markdown",
   "id": "6110c97f-2714-43fd-b38f-469568959f89",
   "metadata": {},
   "source": [
    "#### Random Contrast"
   ]
  },
  {
   "cell_type": "code",
   "execution_count": 11,
   "id": "a9e02d28-cf9c-4533-a147-342993318783",
   "metadata": {},
   "outputs": [],
   "source": [
    "p.random_contrast(probability=0.5, min_factor=0.9, max_factor=1.4)"
   ]
  },
  {
   "cell_type": "markdown",
   "id": "cf419210-599e-4b96-8397-c55b1b587020",
   "metadata": {},
   "source": [
    "#### Random Distortion"
   ]
  },
  {
   "cell_type": "code",
   "execution_count": 12,
   "id": "1bc119d9-ea69-4650-86d3-3564b2de6bef",
   "metadata": {},
   "outputs": [],
   "source": [
    "p.random_distortion(probability=0.1, grid_width=7, grid_height=8, magnitude=5)"
   ]
  },
  {
   "cell_type": "markdown",
   "id": "c7ef7879-49e1-411d-b3f8-9e057e3d4d46",
   "metadata": {},
   "source": [
    "#### Random Erasing"
   ]
  },
  {
   "cell_type": "code",
   "execution_count": 15,
   "id": "e7360394-05f8-497e-8826-552c8b2f1381",
   "metadata": {},
   "outputs": [],
   "source": [
    "p.random_erasing(probability=0.3, rectangle_area=0.2)"
   ]
  },
  {
   "cell_type": "markdown",
   "id": "a498459a-f490-4b15-8291-7951ccd8d902",
   "metadata": {},
   "source": [
    "#### Zooming"
   ]
  },
  {
   "cell_type": "code",
   "execution_count": 16,
   "id": "60c69258-3dac-4a9d-abb8-7833fac4aaa2",
   "metadata": {},
   "outputs": [],
   "source": [
    "p.zoom(probability=0.7, min_factor=1.1, max_factor=1.5)"
   ]
  },
  {
   "cell_type": "markdown",
   "id": "5aeb3042-7271-4f84-b23c-c35e29865252",
   "metadata": {},
   "source": [
    "#### Output"
   ]
  },
  {
   "cell_type": "code",
   "execution_count": 18,
   "id": "6a1d994b-b9f7-4644-a4cc-96adb76b2f07",
   "metadata": {},
   "outputs": [
    {
     "name": "stderr",
     "output_type": "stream",
     "text": [
      "Processing <PIL.Image.Image image mode=RGB size=100x100 at 0x2CF995AD250>: 100%|█| 200/200 [00:04<00:00, 40.97 Samples/\n"
     ]
    }
   ],
   "source": [
    "p.sample(200)"
   ]
  }
 ],
 "metadata": {
  "kernelspec": {
   "display_name": "Python 3 (ipykernel)",
   "language": "python",
   "name": "python3"
  },
  "language_info": {
   "codemirror_mode": {
    "name": "ipython",
    "version": 3
   },
   "file_extension": ".py",
   "mimetype": "text/x-python",
   "name": "python",
   "nbconvert_exporter": "python",
   "pygments_lexer": "ipython3",
   "version": "3.9.4"
  }
 },
 "nbformat": 4,
 "nbformat_minor": 5
}
